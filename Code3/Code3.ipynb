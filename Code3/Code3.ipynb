{
 "cells": [
  {
   "cell_type": "code",
   "execution_count": 47,
   "metadata": {
    "pycharm": {
     "is_executing": false,
     "metadata": false,
     "name": "#%%\n"
    }
   },
   "outputs": [],
   "source": [
    "from __future__ import print_function\n",
    "import os\n",
    "from ipywidgets import interact, interactive, fixed, interact_manual\n",
    "import ipywidgets as widgets\n",
    "import random\n",
    "from IPython.display import display, HTML\n",
    "from IPython.display import display, Markdown\n",
    "\n",
    "import pandas as pd\n",
    "import base64  \n",
    "import numpy as np"
   ]
  },
  {
   "cell_type": "markdown",
   "metadata": {
    "pycharm": {
     "metadata": false
    }
   },
   "source": [
    "# Code 3\n",
    "## Used to verify the output of the final report by calculation rates based on detailed proposal output"
   ]
  },
  {
   "cell_type": "code",
   "execution_count": 48,
   "metadata": {
    "pycharm": {
     "metadata": false,
     "name": "#%%\n"
    }
   },
   "outputs": [],
   "source": [
    "\n",
    "# temp = 'temp_'\n",
    "uat  = 'uat_'\n",
    "file_Index = 1\n"
   ]
  },
  {
   "cell_type": "code",
   "execution_count": 49,
   "metadata": {
    "pycharm": {
     "metadata": false,
     "name": "#%%\n"
    }
   },
   "outputs": [],
   "source": [
    "file_name = 'testnewformat.csv'\n",
    "SHOW_ALL_OUTPUT = False\n"
   ]
  },
  {
   "cell_type": "code",
   "execution_count": 50,
   "metadata": {
    "pycharm": {
     "is_executing": false,
     "metadata": false,
     "name": "#%%\n"
    }
   },
   "outputs": [],
   "source": [
    "def calFee(file_name):\n",
    "    df_UAT = pd.read_csv(file_name, names = ['name','rate_type','rate','best','lowest','highest','worst','overrun'])\n",
    "    df_UAT = df_UAT.dropna()\n",
    "    df_UAT = df_UAT[df_UAT.name != 'Name']\n",
    "    dfoverrun = pd.read_csv(\"overrun.csv\",names=['overrun','factor'])\n",
    "    dfoverrun = dfoverrun.set_index('overrun')\n",
    "\n",
    "    look_up_dict = dfoverrun.to_dict()['factor']\n",
    "    df_UAT.overrun = df_UAT.overrun.str.strip()\n",
    "    df_UAT.overrun = df_UAT.overrun.map(look_up_dict)\n",
    "    \n",
    "    df_UAT.best=pd.to_numeric(df_UAT['best'])\n",
    "    df_UAT.highest=pd.to_numeric(df_UAT['highest'])\n",
    "    df_UAT.lowest=pd.to_numeric(df_UAT['lowest'])\n",
    "    df_UAT.worst=pd.to_numeric(df_UAT['worst'])\n",
    "    df_UAT.rate=pd.to_numeric(df_UAT['rate'])\n",
    "    df_UAT.overrun=pd.to_numeric(df_UAT['overrun'])\n",
    "    \n",
    "    df_UAT['bc']=df_UAT['best'] * df_UAT['rate']\n",
    "    df_UAT['la']=df_UAT['lowest'] * df_UAT['rate']\n",
    "    df_UAT['ha']=df_UAT['highest'] * df_UAT['rate']\n",
    "    df_UAT['wc']=df_UAT['worst'] * df_UAT['rate']\n",
    "    df_UAT['LRFF'] = np.around((df_UAT['wc']-(df_UAT['ha']+df_UAT['la'])*0.5)*df_UAT['overrun']+(df_UAT['ha']+df_UAT['la'])*0.5,-1)\n",
    "    df_UAT['HRFF'] = np.around((df_UAT['wc']-df_UAT['ha'])*df_UAT['overrun']+df_UAT['ha'],-1)\n",
    "    df_UAT['bc']=np.ceil(df_UAT['bc'])\n",
    "    df_UAT['la']=np.ceil(df_UAT['la'])\n",
    "    df_UAT['ha']=np.ceil(df_UAT['ha'])\n",
    "    df_UAT['wc']=np.ceil(df_UAT['wc'])\n",
    "    sums = df_UAT.sum()\n",
    "    #display(HTML('<h1>Check output for: <i>'+file_name+'</i></h1>'))\n",
    "    return ('<h2>Check output for: <i>'+file_name+'</i></h2>'+\n",
    "    '<h3>Final Fixed Fee: '+str(np.round(sums.LRFF,-1))+'</h3>'+\n",
    "    '<h3>Best Case Cost: '+str(np.round(sums.bc,-1))+'</h3>'+\n",
    "    '<h3>Lowest Anticipated Cost: '+str(np.round(sums.la,-1))+'</h3>'+\n",
    "    '<h3>Highest Anticipated Cost: '+str(np.round(sums.ha,-1))+'</h3>'+\n",
    "    '<h3>Worst Case Cost: '+str(np.round(sums.wc,-1))+'</h3>'+\n",
    "    '<hr>')\n"
   ]
  },
  {
   "cell_type": "code",
   "execution_count": 51,
   "metadata": {
    "pycharm": {
     "is_executing": false,
     "metadata": false,
     "name": "#%%\n"
    }
   },
   "outputs": [
    {
     "data": {
      "application/vnd.jupyter.widget-view+json": {
       "model_id": "a5e805a894b241a28574cc5ee4f0c30e",
       "version_major": 2,
       "version_minor": 0
      },
      "text/plain": [
       "interactive(children=(Text(value='1', description='Index'), Checkbox(value=False, description='Onefile'), Chec…"
      ]
     },
     "metadata": {},
     "output_type": "display_data"
    },
    {
     "data": {
      "text/plain": [
       "<function __main__.getfiles(Index, Onefile, Quickoutput, Datafolder)>"
      ]
     },
     "execution_count": 51,
     "metadata": {},
     "output_type": "execute_result"
    }
   ],
   "source": [
    "def getfiles(Index,Onefile,Quickoutput,Datafolder):\n",
    "    allfiles = os.listdir('datafolder')\n",
    "    bigfile = 'ReallyBigFile.html'\n",
    "    test = Index.split(',')\n",
    "    stripped = []\n",
    "    for word1 in test:\n",
    "        stripped.append(word1.strip())\n",
    "    stripped\n",
    "    if Onefile :\n",
    "        with open(bigfile,'w') as file:\n",
    "            file.write('<h1>All outputs in one file:</h1>')\n",
    "    \n",
    "    if Datafolder:\n",
    "        for filename in allfiles:\n",
    "#             try:\n",
    "            output = calFee(filename)\n",
    "            if Quickoutput :\n",
    "                display(HTML(output))\n",
    "            if Onefile == False:\n",
    "                output_file = filename.split('.')[0] + 'html'\n",
    "                with open(output_file,'w') as file:\n",
    "                    file.write(output)\n",
    "            else:\n",
    "                with open(bigfile,'a') as file:\n",
    "                    file.write(output)\n",
    "#             except FileNotFoundError:\n",
    "#                 display(HTML('<h1>Incorrect auto File Name: ' + filename+'</h1>'))\n",
    "    else:\n",
    "        for word in stripped:\n",
    "            file_name = 'input' + word + '.csv'\n",
    "            output_file = 'input' + word +'.html'\n",
    "            #print(f'Using file: {file_name} as testing file')\n",
    "            try:\n",
    "                output = calFee(file_name)\n",
    "                \n",
    "                if Quickoutput :\n",
    "                    display(HTML(output))\n",
    "                if Onefile == False:\n",
    "                    with open(output_file,'w') as file:\n",
    "                        file.write(output)\n",
    "                else:\n",
    "                    with open(bigfile,'a') as file:\n",
    "                        file.write(output)\n",
    "            except FileNotFoundError:\n",
    "                display(HTML('<h1>Incorrect File Name: ' + file_name+'</h1>'))\n",
    "            \n",
    "        \n",
    "\n",
    "interact_manual(getfiles, Index=\"1\",Onefile = False,Quickoutput = True,Datafolder = False)\n",
    "\n"
   ]
  }
 ],
 "metadata": {
  "kernelspec": {
   "display_name": "Python 3",
   "language": "python",
   "name": "python3"
  },
  "language_info": {
   "codemirror_mode": {
    "name": "ipython",
    "version": 3
   },
   "file_extension": ".py",
   "mimetype": "text/x-python",
   "name": "python",
   "nbconvert_exporter": "python",
   "pygments_lexer": "ipython3",
   "version": "3.7.1"
  },
  "stem_cell": {
   "cell_type": "raw",
   "metadata": {
    "pycharm": {
     "metadata": false
    }
   },
   "source": ""
  }
 },
 "nbformat": 4,
 "nbformat_minor": 1
}
