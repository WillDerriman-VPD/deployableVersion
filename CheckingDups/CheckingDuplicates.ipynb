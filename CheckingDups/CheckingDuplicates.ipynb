{
 "cells": [
  {
   "cell_type": "code",
   "execution_count": 269,
   "metadata": {
    "pycharm": {}
   },
   "outputs": [],
   "source": [
    "from __future__ import print_function\n",
    "import os\n",
    "from ipywidgets import interact, interactive, fixed, interact_manual\n",
    "import ipywidgets as widgets\n",
    "import random\n",
    "from IPython.display import display, HTML\n",
    "from IPython.display import display, Markdown\n",
    "\n",
    "import pandas as pd\n",
    "import base64  \n",
    "import numpy as np"
   ]
  },
  {
   "cell_type": "code",
   "execution_count": 270,
   "metadata": {
    "pycharm": {
     "is_executing": false,
     "metadata": false,
     "name": "#%%\n"
    }
   },
   "outputs": [],
   "source": [
    "\n",
    "def checkImport(filename):\n",
    "    # filename = 'input2.csv'\n",
    "    dftemp = pd.read_csv(filename, names = ['name','assumption','exclusion','req','narrative','role','overrun','best','lowest','highest','worst'])\n",
    "    blanktext = 'blankfield'\n",
    "    dftemp = dftemp.fillna(blanktext)\n",
    "    dftemp = dftemp[dftemp.best != blanktext]\n",
    "    dftemp = dftemp.drop(columns = ['assumption','exclusion','req','narrative'])\n",
    "    dftemp = dftemp.reset_index(drop=True)\n",
    "    dftemp.index.name = 'rowindex'\n",
    "    dftemp = dftemp.reset_index()\n",
    "    \n",
    "    \n",
    "    nptemp = dftemp.values\n",
    "    \n",
    "    indexList = []\n",
    "    sublist = []\n",
    "    for row in nptemp:\n",
    "        if row[1] == blanktext:\n",
    "            if row[0]-1 not in sublist:\n",
    "                sublist.append(row[0]-1)\n",
    "            sublist.append(row[0])\n",
    "        elif len(sublist)>0:\n",
    "            indexList.append(sublist)\n",
    "            sublist = []\n",
    "        \n",
    "            \n",
    "\n",
    "    listofsubdf = []\n",
    "    for sublist in indexList:\n",
    "        dfsubset = dftemp[dftemp.rowindex.isin(sublist)]\n",
    "        listofsubdf.append(dfsubset)\n",
    "        \n",
    "    with open('Output.txt','a') as file:\n",
    "        parsedfilename = filename.split('/')[1]  \n",
    "        file.write(f'In file: {parsedfilename} \\n')\n",
    "    \n",
    "    for dfset in listofsubdf:\n",
    "        # display(dfset)\n",
    "        listofRoles = dfset.role.tolist()\n",
    "        setofRoles = set(listofRoles)\n",
    "        # Using the above to create a list and a set of unique items to see if there are duplicates by counting length\n",
    "        lengthoflist = len(listofRoles)\n",
    "        lengthofset = len(setofRoles)\n",
    "        if lengthoflist != lengthofset:\n",
    "            nameoftask = dfset.iloc[0]['name']\n",
    "            # print(f'In file: {filename}')\n",
    "            # print(f'Task----> {nameoftask}')\n",
    "            # display(dfset.drop(columns = ('rowindex')))\n",
    "            with open('Output.txt','a') as file:\n",
    "                file.write(f'Task----> {nameoftask} \\n')\n",
    "            \n",
    "    with open('Output.txt','a') as file:\n",
    "                file.write(f'\\n-------- End of File --------- \\n\\n')\n",
    "    "
   ]
  },
  {
   "cell_type": "code",
   "execution_count": 271,
   "metadata": {
    "pycharm": {
     "is_executing": false,
     "metadata": false,
     "name": "#%%\n"
    }
   },
   "outputs": [
    {
     "data": {
      "application/vnd.jupyter.widget-view+json": {
       "model_id": "2045180db46f4a8fa8b99ecc6a856606",
       "version_major": 2,
       "version_minor": 0
      },
      "text/plain": [
       "interactive(children=(Button(description='Run Interact', style=ButtonStyle()), Output()), _dom_classes=('widge…"
      ]
     },
     "metadata": {},
     "output_type": "display_data"
    },
    {
     "data": {
      "text/plain": [
       "<function __main__.getfiles()>"
      ]
     },
     "execution_count": 271,
     "metadata": {},
     "output_type": "execute_result"
    }
   ],
   "source": [
    "def getfiles():\n",
    "    # file_name = 'input' + Index + '.csv'\n",
    "    allfiles = os.listdir('datafolder')\n",
    "    with open('Output.txt','w') as file:\n",
    "                file.write(f'Checking for tasks with same fee earner roles \\n\\n\\n')\n",
    "    print(f'Files detected: {allfiles} \\n')\n",
    "    for filename in allfiles:\n",
    "        try:\n",
    "            checkImport('datafolder/' + filename)\n",
    "        except FileNotFoundError:\n",
    "            display(HTML('<h1>Incorrect File Name: ' + filename+'</h1>'))\n",
    "\n",
    "interact_manual(getfiles)\n"
   ]
  }
 ],
 "metadata": {
  "kernelspec": {
   "display_name": "Python 3",
   "language": "python",
   "name": "python3"
  },
  "language_info": {
   "codemirror_mode": {
    "name": "ipython",
    "version": 3
   },
   "file_extension": ".py",
   "mimetype": "text/x-python",
   "name": "python",
   "nbconvert_exporter": "python",
   "pygments_lexer": "ipython3",
   "version": "3.7.1"
  }
 },
 "nbformat": 4,
 "nbformat_minor": 1
}
